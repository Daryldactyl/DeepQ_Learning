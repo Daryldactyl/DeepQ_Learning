{
  "cells": [
    {
      "cell_type": "markdown",
      "metadata": {
        "id": "view-in-github",
        "colab_type": "text"
      },
      "source": [
        "<a href=\"https://colab.research.google.com/github/Daryldactyl/DeepQ_Learning/blob/main/Deep_Q_Learning_Lunar_Landing.ipynb\" target=\"_parent\"><img src=\"https://colab.research.google.com/assets/colab-badge.svg\" alt=\"Open In Colab\"/></a>"
      ]
    },
    {
      "cell_type": "markdown",
      "metadata": {
        "id": "LbZcI9ZXHl3a"
      },
      "source": [
        "# Deep Q-Learning for Lunar Landing"
      ]
    },
    {
      "cell_type": "markdown",
      "metadata": {
        "id": "E8yPRjteXgPb"
      },
      "source": [
        "## Part 0 - Installing the required packages and importing the libraries"
      ]
    },
    {
      "cell_type": "markdown",
      "metadata": {
        "id": "slEm5teGWjWU"
      },
      "source": [
        "### Installing Gymnasium"
      ]
    },
    {
      "cell_type": "markdown",
      "metadata": {
        "id": "brqiMN3UW9T9"
      },
      "source": [
        "### Importing the libraries"
      ]
    },
    {
      "cell_type": "code",
      "execution_count": 2,
      "metadata": {
        "id": "mZaKXP_aMl9O"
      },
      "outputs": [],
      "source": [
        "import os\n",
        "import random\n",
        "import numpy as np\n",
        "import torch\n",
        "import torch.nn as nn\n",
        "import torch.optim as optim\n",
        "import torch.nn.functional as F\n",
        "import torch.autograd as autograd\n",
        "from torch.autograd import Variable\n",
        "from collections import deque, namedtuple"
      ]
    },
    {
      "cell_type": "markdown",
      "metadata": {
        "id": "EzlDKXvkXzGI"
      },
      "source": [
        "## Part 1 - Building the AI"
      ]
    },
    {
      "cell_type": "markdown",
      "metadata": {
        "id": "UtG6Zc83YYy3"
      },
      "source": [
        "### Creating the architecture of the Neural Network"
      ]
    },
    {
      "cell_type": "code",
      "source": [
        "class Network(nn.Module):\n",
        "\n",
        "  def __init__(self, state_size, action_size, seed=42):\n",
        "      super(Network, self).__init__()\n",
        "      self.seed = torch.manual_seed(seed)\n",
        "      self.fc1 = nn.Linear(state_size, 64)\n",
        "      self.fc2 = nn.Linear(64, 64)\n",
        "      self.fc3 = nn.Linear(64, action_size)\n",
        "\n",
        "  def forward(self, state):\n",
        "    x = self.fc1(state)\n",
        "    x = F.relu(x)\n",
        "    x = self.fc2(x)\n",
        "    x = F.relu(x)\n",
        "    return self.fc3(x)"
      ],
      "metadata": {
        "id": "FXUJZf7q6Jns"
      },
      "execution_count": 3,
      "outputs": []
    },
    {
      "cell_type": "markdown",
      "metadata": {
        "id": "UxVrBnFWZKb1"
      },
      "source": [
        "## Part 2 - Training the AI"
      ]
    },
    {
      "cell_type": "markdown",
      "metadata": {
        "id": "T364fz9qZb2j"
      },
      "source": [
        "### Setting up the environment"
      ]
    },
    {
      "cell_type": "code",
      "source": [
        "import gymnasium as gym\n",
        "env = gym.make('LunarLander-v2')\n",
        "state_shape = env.observation_space.shape\n",
        "state_size = env.observation_space.shape[0]\n",
        "number_actions = env.action_space.n\n",
        "print('State shape: ', state_shape)\n",
        "print('State size: ', state_size)\n",
        "print('Number of Actions: ', number_actions)"
      ],
      "metadata": {
        "colab": {
          "base_uri": "https://localhost:8080/"
        },
        "id": "3w7sztBP8dZn",
        "outputId": "5e481eeb-0707-4cef-df0b-03e5cfa46c8b"
      },
      "execution_count": 4,
      "outputs": [
        {
          "output_type": "stream",
          "name": "stdout",
          "text": [
            "State shape:  (8,)\n",
            "State size:  8\n",
            "Number of Actions:  4\n"
          ]
        }
      ]
    },
    {
      "cell_type": "markdown",
      "metadata": {
        "id": "c_dZmOIvZgj-"
      },
      "source": [
        "### Initializing the hyperparameters"
      ]
    },
    {
      "cell_type": "code",
      "source": [
        "learning_rate = 5e-4\n",
        "minibatch_size = 100\n",
        "gamma = 0.99\n",
        "replay_buffer_size = 100000\n",
        "interpolation_parameter = 0.001"
      ],
      "metadata": {
        "colab": {
          "base_uri": "https://localhost:8080/"
        },
        "id": "qwzO_2wq9TEs",
        "outputId": "cd21fbe0-496f-4fab-e868-d2a9a05b7275"
      },
      "execution_count": 5,
      "outputs": [
        {
          "output_type": "stream",
          "name": "stderr",
          "text": [
            "/usr/local/lib/python3.10/dist-packages/ipykernel/ipkernel.py:283: DeprecationWarning: `should_run_async` will not call `transform_cell` automatically in the future. Please pass the result to `transformed_cell` argument and any exception that happen during thetransform in `preprocessing_exc_tuple` in IPython 7.17 and above.\n",
            "  and should_run_async(code)\n"
          ]
        }
      ]
    },
    {
      "cell_type": "markdown",
      "metadata": {
        "id": "8hD_Vs-bYnip"
      },
      "source": [
        "### Implementing Experience Replay"
      ]
    },
    {
      "cell_type": "code",
      "source": [
        "class ReplayMemory(object):\n",
        "\n",
        "  def __init__(self, capacity):\n",
        "     self.device = torch.device('cuda:0' if torch.cuda.is_available() else 'cpu')\n",
        "     self.capacity = capacity\n",
        "     self.memory = []\n",
        "\n",
        "  def push(self, event):\n",
        "    self.memory.append(event)\n",
        "    if len(self.memory) > self.capacity:\n",
        "      del self.memory[0]\n",
        "\n",
        "  def sample(self, batch_size):\n",
        "    experiences = random.sample(self.memory, k = batch_size)\n",
        "    states = torch.from_numpy(np.vstack([e[0] for e in experiences if e is not None])).float().to(self.device)\n",
        "    actions = torch.from_numpy(np.vstack([e[1] for e in experiences if e is not None])).long().to(self.device)\n",
        "    rewards = torch.from_numpy(np.vstack([e[2] for e in experiences if e is not None])).float().to(self.device)\n",
        "    next_states = torch.from_numpy(np.vstack([e[3] for e in experiences if e is not None])).float().to(self.device)\n",
        "    dones = torch.from_numpy(np.vstack([e[4] for e in experiences if e is not None]).astype(np.uint8)).float().to(self.device)\n",
        "    return states, next_states, actions, rewards, dones"
      ],
      "metadata": {
        "id": "GbelCM5t95h6"
      },
      "execution_count": 6,
      "outputs": []
    },
    {
      "cell_type": "markdown",
      "metadata": {
        "id": "JmEkbFbUY6Jt"
      },
      "source": [
        "### Implementing the DQN class"
      ]
    },
    {
      "cell_type": "code",
      "source": [
        "class Agent():\n",
        "\n",
        "  def __init__(self, state_size, action_size):\n",
        "    self.device = torch.device('cuda:0' if torch.cuda.is_available() else 'cpu')\n",
        "    self.state_size = state_size\n",
        "    self.action_size = action_size\n",
        "    self.local_qnetwork = Network(state_size, action_size).to(self.device)\n",
        "    self.target_qnetwork = Network(state_size, action_size).to(self.device)\n",
        "    self.optimizer = optim.Adam(self.local_qnetwork.parameters(), lr= learning_rate)\n",
        "    self.memory = ReplayMemory(replay_buffer_size)\n",
        "    self.t_step = 0\n",
        "\n",
        "  def step(self, state, action, reward, next_state, done):\n",
        "    self.memory.push((state, action, reward, next_state, done))\n",
        "    self.t_step = (self.t_step + 1) % 4\n",
        "    if self.t_step == 0:\n",
        "      if len(self.memory.memory) > minibatch_size:\n",
        "        experiences = self.memory.sample(100)\n",
        "        self.learn(experiences, gamma)\n",
        "\n",
        "  def act(self, state, epsilon = 0.):\n",
        "    state = torch.from_numpy(state).float().unsqueeze(0).to(self.device)\n",
        "    self.local_qnetwork.eval()\n",
        "    with torch.no_grad():\n",
        "      action_values = self.local_qnetwork(state)\n",
        "    self.local_qnetwork.train()\n",
        "    if random.random() > epsilon:\n",
        "      return np.argmax(action_values.cpu().data.numpy())\n",
        "    else:\n",
        "      return random.choice(np.arange(self.action_size))\n",
        "\n",
        "  def learn(self, experiences, gamma):\n",
        "    states, next_states, actions, rewards, dones = experiences\n",
        "    next_q_targets = self.target_qnetwork(next_states).detach().max(1)[0].unsqueeze(1)\n",
        "    q_targets = rewards + (gamma * next_q_targets * (1 - dones))\n",
        "    q_expected = self.local_qnetwork(states).gather(1, actions)\n",
        "    loss = F.mse_loss(q_expected, q_targets)\n",
        "    self.optimizer.zero_grad()\n",
        "    loss.backward()\n",
        "    self.optimizer.step()\n",
        "    self.soft_update(self.local_qnetwork, self.target_qnetwork, interpolation_parameter)\n",
        "\n",
        "  def soft_update(self, local_model, target_model, interpolation_parameter):\n",
        "    for target_param, local_param in zip(target_model.parameters(), local_model.parameters()):\n",
        "      target_param.data.copy_(interpolation_parameter * local_param.data + (1 - interpolation_parameter) * target_param.data)"
      ],
      "metadata": {
        "colab": {
          "base_uri": "https://localhost:8080/"
        },
        "id": "yIYwd3h5AHLF",
        "outputId": "c44ae869-4eac-4531-8497-2117ee56bb5b"
      },
      "execution_count": 15,
      "outputs": [
        {
          "output_type": "stream",
          "name": "stderr",
          "text": [
            "/usr/local/lib/python3.10/dist-packages/ipykernel/ipkernel.py:283: DeprecationWarning: `should_run_async` will not call `transform_cell` automatically in the future. Please pass the result to `transformed_cell` argument and any exception that happen during thetransform in `preprocessing_exc_tuple` in IPython 7.17 and above.\n",
            "  and should_run_async(code)\n"
          ]
        }
      ]
    },
    {
      "cell_type": "markdown",
      "metadata": {
        "id": "o1tZElccZmf6"
      },
      "source": [
        "### Initializing the DQN agent"
      ]
    },
    {
      "cell_type": "code",
      "source": [
        "agent = Agent(state_size, number_actions)"
      ],
      "metadata": {
        "id": "G8Ex6eTKG3Cb"
      },
      "execution_count": 16,
      "outputs": []
    },
    {
      "cell_type": "markdown",
      "metadata": {
        "id": "E8v0PtUfaVQp"
      },
      "source": [
        "### Training the DQN agent"
      ]
    },
    {
      "cell_type": "code",
      "source": [
        "number_episodes = 2000\n",
        "max_timesteps = 1000\n",
        "epsilon_start = 1.0\n",
        "epsilon_end = 0.01\n",
        "epsilon_decay = 0.995\n",
        "epsilon = epsilon_start\n",
        "scores_on_100_episodes = deque(maxlen = 100)"
      ],
      "metadata": {
        "id": "_zm5od7KHCSb"
      },
      "execution_count": 17,
      "outputs": []
    },
    {
      "cell_type": "code",
      "source": [
        "for episode in range(1, number_episodes + 1):\n",
        "  state, _ = env.reset()\n",
        "  score = 0\n",
        "  for step in range(max_timesteps):\n",
        "    action = agent.act(state, epsilon)\n",
        "    next_state, reward, done, _, _ = env.step(action)\n",
        "    agent.step(state, action, reward, next_state, done)\n",
        "    state = next_state\n",
        "    score += reward\n",
        "    if done:\n",
        "      break\n",
        "  scores_on_100_episodes.append(score)\n",
        "  epsilon = max(epsilon_end, epsilon_decay * epsilon)\n",
        "  print('\\rEpisode {}\\tAverage Score: {:.2f}'.format(episode, np.mean(scores_on_100_episodes)), end = '')\n",
        "  if episode % 100 == 0:\n",
        "    print('\\rEpisode {}\\tAverage Score: {:.2f}'.format(episode, np.mean(scores_on_100_episodes)))\n",
        "  if np.mean(scores_on_100_episodes) >= 260.0:\n",
        "    print('\\nEnvironment solved in {:d} episodes!\\tAverage Score: {:.2f}'.format(episode - 100, np.mean(scores_on_100_episodes)))\n",
        "    torch.save(agent.local_qnetwork.state_dict(), 'checkpoint.pth')\n",
        "    break"
      ],
      "metadata": {
        "colab": {
          "base_uri": "https://localhost:8080/"
        },
        "id": "eOPE7pWiH8tn",
        "outputId": "71bc5ff5-8b70-4d63-a0a6-f9689e98283d"
      },
      "execution_count": 22,
      "outputs": [
        {
          "output_type": "stream",
          "name": "stdout",
          "text": [
            "Episode 18\tAverage Score: 261.15\n",
            "Environment solved in -82 episodes!\tAverage Score: 261.15\n"
          ]
        }
      ]
    },
    {
      "cell_type": "markdown",
      "metadata": {
        "id": "O8CNwdOTcCoP"
      },
      "source": [
        "## Part 3 - Visualizing the results"
      ]
    },
    {
      "cell_type": "code",
      "execution_count": 23,
      "metadata": {
        "id": "cb9nVvU2Okhk",
        "colab": {
          "base_uri": "https://localhost:8080/",
          "height": 459
        },
        "outputId": "3ae8b637-9189-4aab-8a94-068b05dc0995"
      },
      "outputs": [
        {
          "output_type": "stream",
          "name": "stderr",
          "text": [
            "WARNING:imageio_ffmpeg:IMAGEIO FFMPEG_WRITER WARNING: input image is not divisible by macro_block_size=16, resizing from (600, 400) to (608, 400) to ensure video compatibility with most codecs and players. To prevent resizing, make your input image divisible by the macro_block_size or set the macro_block_size to 1 (risking incompatibility).\n"
          ]
        },
        {
          "output_type": "display_data",
          "data": {
            "text/plain": [
              "<IPython.core.display.HTML object>"
            ],
            "text/html": [
              "<video alt=\"test\" autoplay\n",
              "                loop controls style=\"height: 400px;\">\n",
              "                <source src=\"data:video/mp4;base64,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\" type=\"video/mp4\" />\n",
              "             </video>"
            ]
          },
          "metadata": {}
        }
      ],
      "source": [
        "import glob\n",
        "import io\n",
        "import base64\n",
        "import imageio\n",
        "from IPython.display import HTML, display\n",
        "from gym.wrappers.monitoring.video_recorder import VideoRecorder\n",
        "\n",
        "def show_video_of_model(agent, env_name):\n",
        "    env = gym.make(env_name, render_mode='rgb_array')\n",
        "    state, _ = env.reset()\n",
        "    done = False\n",
        "    frames = []\n",
        "    while not done:\n",
        "        frame = env.render()\n",
        "        frames.append(frame)\n",
        "        action = agent.act(state)\n",
        "        state, reward, done, _, _ = env.step(action.item())\n",
        "    env.close()\n",
        "    imageio.mimsave('video.mp4', frames, fps=30)\n",
        "\n",
        "show_video_of_model(agent, 'LunarLander-v2')\n",
        "\n",
        "def show_video():\n",
        "    mp4list = glob.glob('*.mp4')\n",
        "    if len(mp4list) > 0:\n",
        "        mp4 = mp4list[0]\n",
        "        video = io.open(mp4, 'r+b').read()\n",
        "        encoded = base64.b64encode(video)\n",
        "        display(HTML(data='''<video alt=\"test\" autoplay\n",
        "                loop controls style=\"height: 400px;\">\n",
        "                <source src=\"data:video/mp4;base64,{0}\" type=\"video/mp4\" />\n",
        "             </video>'''.format(encoded.decode('ascii'))))\n",
        "    else:\n",
        "        print(\"Could not find video\")\n",
        "\n",
        "show_video()"
      ]
    }
  ],
  "metadata": {
    "colab": {
      "provenance": [],
      "include_colab_link": true
    },
    "kernelspec": {
      "display_name": "Python 3",
      "name": "python3"
    },
    "language_info": {
      "name": "python"
    }
  },
  "nbformat": 4,
  "nbformat_minor": 0
}