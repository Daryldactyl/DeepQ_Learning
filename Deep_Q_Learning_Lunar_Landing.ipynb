{
 "cells": [
  {
   "cell_type": "markdown",
   "metadata": {
    "id": "LbZcI9ZXHl3a"
   },
   "source": [
    "# Deep Q-Learning for Lunar Landing"
   ]
  },
  {
   "cell_type": "markdown",
   "metadata": {
    "id": "E8yPRjteXgPb"
   },
   "source": [
    "## Part 0 - Installing the required packages and importing the libraries"
   ]
  },
  {
   "cell_type": "markdown",
   "metadata": {
    "id": "slEm5teGWjWU"
   },
   "source": [
    "### Installing Gymnasium"
   ]
  },
  {
   "cell_type": "markdown",
   "metadata": {
    "id": "brqiMN3UW9T9"
   },
   "source": [
    "### Importing the libraries"
   ]
  },
  {
   "cell_type": "code",
   "execution_count": 1,
   "metadata": {
    "id": "mZaKXP_aMl9O"
   },
   "outputs": [],
   "source": [
    "import os\n",
    "import random\n",
    "import numpy as np\n",
    "import torch\n",
    "import torch.nn as nn\n",
    "import torch.optim as optim\n",
    "import torch.nn.functional as F\n",
    "import torch.autograd as autograd\n",
    "from torch.autograd import Variable\n",
    "from collections import deque, namedtuple"
   ]
  },
  {
   "cell_type": "markdown",
   "metadata": {
    "id": "EzlDKXvkXzGI"
   },
   "source": [
    "## Part 1 - Building the AI"
   ]
  },
  {
   "cell_type": "markdown",
   "metadata": {
    "id": "UtG6Zc83YYy3"
   },
   "source": [
    "### Creating the architecture of the Neural Network"
   ]
  },
  {
   "cell_type": "code",
   "execution_count": 2,
   "metadata": {
    "id": "FXUJZf7q6Jns"
   },
   "outputs": [],
   "source": [
    "class Network(nn.Module):\n",
    "\n",
    "  def __init__(self, state_size, action_size, seed=42):\n",
    "      super(Network, self).__init__()\n",
    "      self.seed = torch.manual_seed(seed)\n",
    "      self.fc1 = nn.Linear(state_size, 64)\n",
    "      self.fc2 = nn.Linear(64, 64)\n",
    "      self.fc3 = nn.Linear(64, action_size)\n",
    "\n",
    "  def forward(self, state):\n",
    "    x = self.fc1(state)\n",
    "    x = F.relu(x)\n",
    "    x = self.fc2(x)\n",
    "    x = F.relu(x)\n",
    "    return self.fc3(x)"
   ]
  },
  {
   "cell_type": "markdown",
   "metadata": {
    "id": "UxVrBnFWZKb1"
   },
   "source": [
    "## Part 2 - Training the AI"
   ]
  },
  {
   "cell_type": "markdown",
   "metadata": {
    "id": "T364fz9qZb2j"
   },
   "source": [
    "### Setting up the environment"
   ]
  },
  {
   "cell_type": "code",
   "execution_count": 3,
   "metadata": {
    "colab": {
     "base_uri": "https://localhost:8080/"
    },
    "id": "3w7sztBP8dZn",
    "outputId": "5e481eeb-0707-4cef-df0b-03e5cfa46c8b"
   },
   "outputs": [
    {
     "name": "stdout",
     "output_type": "stream",
     "text": [
      "State shape:  (8,)\n",
      "State size:  8\n",
      "Number of Actions:  4\n"
     ]
    }
   ],
   "source": [
    "import gymnasium as gym\n",
    "env = gym.make('LunarLander-v2')\n",
    "state_shape = env.observation_space.shape\n",
    "state_size = env.observation_space.shape[0]\n",
    "number_actions = env.action_space.n\n",
    "print('State shape: ', state_shape)\n",
    "print('State size: ', state_size)\n",
    "print('Number of Actions: ', number_actions)"
   ]
  },
  {
   "cell_type": "markdown",
   "metadata": {
    "id": "c_dZmOIvZgj-"
   },
   "source": [
    "### Initializing the hyperparameters"
   ]
  },
  {
   "cell_type": "code",
   "execution_count": 4,
   "metadata": {
    "colab": {
     "base_uri": "https://localhost:8080/"
    },
    "id": "qwzO_2wq9TEs",
    "outputId": "cd21fbe0-496f-4fab-e868-d2a9a05b7275"
   },
   "outputs": [],
   "source": [
    "learning_rate = 5e-4\n",
    "minibatch_size = 100\n",
    "gamma = 0.99\n",
    "replay_buffer_size = 100000\n",
    "interpolation_parameter = 0.001"
   ]
  },
  {
   "cell_type": "markdown",
   "metadata": {
    "id": "8hD_Vs-bYnip"
   },
   "source": [
    "### Implementing Experience Replay"
   ]
  },
  {
   "cell_type": "code",
   "execution_count": 5,
   "metadata": {
    "id": "GbelCM5t95h6"
   },
   "outputs": [],
   "source": [
    "class ReplayMemory(object):\n",
    "\n",
    "  def __init__(self, capacity):\n",
    "     self.device = torch.device('cuda:0' if torch.cuda.is_available() else 'cpu')\n",
    "     self.capacity = capacity\n",
    "     self.memory = []\n",
    "\n",
    "  def push(self, event):\n",
    "    self.memory.append(event)\n",
    "    if len(self.memory) > self.capacity:\n",
    "      del self.memory[0]\n",
    "\n",
    "  def sample(self, batch_size):\n",
    "    experiences = random.sample(self.memory, k = batch_size)\n",
    "    states = torch.from_numpy(np.vstack([e[0] for e in experiences if e is not None])).float().to(self.device)\n",
    "    actions = torch.from_numpy(np.vstack([e[1] for e in experiences if e is not None])).long().to(self.device)\n",
    "    rewards = torch.from_numpy(np.vstack([e[2] for e in experiences if e is not None])).float().to(self.device)\n",
    "    next_states = torch.from_numpy(np.vstack([e[3] for e in experiences if e is not None])).float().to(self.device)\n",
    "    dones = torch.from_numpy(np.vstack([e[4] for e in experiences if e is not None]).astype(np.uint8)).float().to(self.device)\n",
    "    return states, next_states, actions, rewards, dones"
   ]
  },
  {
   "cell_type": "markdown",
   "metadata": {
    "id": "JmEkbFbUY6Jt"
   },
   "source": [
    "### Implementing the DQN class"
   ]
  },
  {
   "cell_type": "code",
   "execution_count": 6,
   "metadata": {
    "colab": {
     "base_uri": "https://localhost:8080/"
    },
    "id": "yIYwd3h5AHLF",
    "outputId": "c44ae869-4eac-4531-8497-2117ee56bb5b"
   },
   "outputs": [],
   "source": [
    "class Agent():\n",
    "\n",
    "  def __init__(self, state_size, action_size):\n",
    "    self.device = torch.device('cuda:0' if torch.cuda.is_available() else 'cpu')\n",
    "    self.state_size = state_size\n",
    "    self.action_size = action_size\n",
    "    self.local_qnetwork = Network(state_size, action_size).to(self.device)\n",
    "    self.target_qnetwork = Network(state_size, action_size).to(self.device)\n",
    "    self.optimizer = optim.Adam(self.local_qnetwork.parameters(), lr= learning_rate)\n",
    "    self.memory = ReplayMemory(replay_buffer_size)\n",
    "    self.t_step = 0\n",
    "\n",
    "  def step(self, state, action, reward, next_state, done):\n",
    "    self.memory.push((state, action, reward, next_state, done))\n",
    "    self.t_step = (self.t_step + 1) % 4\n",
    "    if self.t_step == 0:\n",
    "      if len(self.memory.memory) > minibatch_size:\n",
    "        experiences = self.memory.sample(100)\n",
    "        self.learn(experiences, gamma)\n",
    "\n",
    "  def act(self, state, epsilon = 0.):\n",
    "    state = torch.from_numpy(state).float().unsqueeze(0).to(self.device)\n",
    "    self.local_qnetwork.eval()\n",
    "    with torch.no_grad():\n",
    "      action_values = self.local_qnetwork(state)\n",
    "    self.local_qnetwork.train()\n",
    "    if random.random() > epsilon:\n",
    "      return np.argmax(action_values.cpu().data.numpy())\n",
    "    else:\n",
    "      return random.choice(np.arange(self.action_size))\n",
    "\n",
    "  def learn(self, experiences, gamma):\n",
    "    states, next_states, actions, rewards, dones = experiences\n",
    "    next_q_targets = self.target_qnetwork(next_states).detach().max(1)[0].unsqueeze(1)\n",
    "    q_targets = rewards + (gamma * next_q_targets * (1 - dones))\n",
    "    q_expected = self.local_qnetwork(states).gather(1, actions)\n",
    "    loss = F.mse_loss(q_expected, q_targets)\n",
    "    self.optimizer.zero_grad()\n",
    "    loss.backward()\n",
    "    self.optimizer.step()\n",
    "    self.soft_update(self.local_qnetwork, self.target_qnetwork, interpolation_parameter)\n",
    "\n",
    "  def soft_update(self, local_model, target_model, interpolation_parameter):\n",
    "    for target_param, local_param in zip(target_model.parameters(), local_model.parameters()):\n",
    "      target_param.data.copy_(interpolation_parameter * local_param.data + (1 - interpolation_parameter) * target_param.data)"
   ]
  },
  {
   "cell_type": "markdown",
   "metadata": {
    "id": "o1tZElccZmf6"
   },
   "source": [
    "### Initializing the DQN agent"
   ]
  },
  {
   "cell_type": "code",
   "execution_count": 7,
   "metadata": {
    "id": "G8Ex6eTKG3Cb"
   },
   "outputs": [],
   "source": [
    "agent = Agent(state_size, number_actions)"
   ]
  },
  {
   "cell_type": "markdown",
   "metadata": {
    "id": "E8v0PtUfaVQp"
   },
   "source": [
    "### Training the DQN agent"
   ]
  },
  {
   "cell_type": "code",
   "execution_count": 8,
   "metadata": {
    "id": "_zm5od7KHCSb"
   },
   "outputs": [],
   "source": [
    "number_episodes = 2000\n",
    "max_timesteps = 1000\n",
    "epsilon_start = 1.0\n",
    "epsilon_end = 0.01\n",
    "epsilon_decay = 0.995\n",
    "epsilon = epsilon_start\n",
    "scores_on_100_episodes = deque(maxlen = 100)"
   ]
  },
  {
   "cell_type": "code",
   "execution_count": 9,
   "metadata": {
    "colab": {
     "base_uri": "https://localhost:8080/",
     "height": 408
    },
    "id": "eOPE7pWiH8tn",
    "outputId": "4bb65cf3-d45d-439c-8429-0b1ca1118824"
   },
   "outputs": [
    {
     "name": "stdout",
     "output_type": "stream",
     "text": [
      "Episode 100\tAverage Score: -163.70\n",
      "Episode 200\tAverage Score: -102.73\n",
      "Episode 300\tAverage Score: -39.812\n",
      "Episode 400\tAverage Score: -10.68\n",
      "Episode 500\tAverage Score: 86.913\n",
      "Episode 600\tAverage Score: 141.46\n",
      "Episode 681\tAverage Score: 200.76\n",
      "Environment solved in 581 episodes!\tAverage Score: 200.76\n"
     ]
    }
   ],
   "source": [
    "for episode in range(1, number_episodes + 1):\n",
    "  state, _ = env.reset()\n",
    "  score = 0\n",
    "  for step in range(max_timesteps):\n",
    "    action = agent.act(state, epsilon)\n",
    "    next_state, reward, done, _, _ = env.step(action)\n",
    "    agent.step(state, action, reward, next_state, done)\n",
    "    state = next_state\n",
    "    score += reward\n",
    "    if done:\n",
    "      break\n",
    "  scores_on_100_episodes.append(score)\n",
    "  epsilon = max(epsilon_end, epsilon_decay * epsilon)\n",
    "  print('\\rEpisode {}\\tAverage Score: {:.2f}'.format(episode, np.mean(scores_on_100_episodes)), end = '')\n",
    "  if episode % 100 == 0:\n",
    "    print('\\rEpisode {}\\tAverage Score: {:.2f}'.format(episode, np.mean(scores_on_100_episodes)))\n",
    "  if np.mean(scores_on_100_episodes) >= 200.0:\n",
    "    print('\\nEnvironment solved in {:d} episodes!\\tAverage Score: {:.2f}'.format(episode - 100, np.mean(scores_on_100_episodes)))\n",
    "    torch.save(agent.local_qnetwork.state_dict(), 'checkpoint.pth')\n",
    "    break"
   ]
  },
  {
   "cell_type": "markdown",
   "metadata": {
    "id": "O8CNwdOTcCoP"
   },
   "source": [
    "## Part 3 - Visualizing the results"
   ]
  },
  {
   "cell_type": "code",
   "execution_count": 12,
   "metadata": {
    "id": "cb9nVvU2Okhk"
   },
   "outputs": [
    {
     "name": "stderr",
     "output_type": "stream",
     "text": [
      "IMAGEIO FFMPEG_WRITER WARNING: input image is not divisible by macro_block_size=16, resizing from (600, 400) to (608, 400) to ensure video compatibility with most codecs and players. To prevent resizing, make your input image divisible by the macro_block_size or set the macro_block_size to 1 (risking incompatibility).\n"
     ]
    },
    {
     "data": {
      "text/html": [
       "<video alt=\"test\" autoplay\n",
       "                loop controls style=\"height: 400px;\">\n",
       "                <source src=\"data:video/mp4;base64,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\" type=\"video/mp4\" />\n",
       "             </video>"
      ],
      "text/plain": [
       "<IPython.core.display.HTML object>"
      ]
     },
     "metadata": {},
     "output_type": "display_data"
    }
   ],
   "source": [
    "import glob\n",
    "import io\n",
    "import base64\n",
    "import imageio\n",
    "from IPython.display import HTML, display\n",
    "from gymnasium.wrappers.monitoring.video_recorder import VideoRecorder\n",
    "\n",
    "def show_video_of_model(agent, env_name):\n",
    "    env = gym.make(env_name, render_mode='rgb_array')\n",
    "    state, _ = env.reset()\n",
    "    done = False\n",
    "    frames = []\n",
    "    while not done:\n",
    "        frame = env.render()\n",
    "        frames.append(frame)\n",
    "        action = agent.act(state)\n",
    "        state, reward, done, _, _ = env.step(action.item())\n",
    "    env.close()\n",
    "    imageio.mimsave('video.mp4', frames, fps=30)\n",
    "\n",
    "show_video_of_model(agent, 'LunarLander-v2')\n",
    "\n",
    "def show_video():\n",
    "    mp4list = glob.glob('*.mp4')\n",
    "    if len(mp4list) > 0:\n",
    "        mp4 = mp4list[0]\n",
    "        video = io.open(mp4, 'r+b').read()\n",
    "        encoded = base64.b64encode(video)\n",
    "        display(HTML(data='''<video alt=\"test\" autoplay\n",
    "                loop controls style=\"height: 400px;\">\n",
    "                <source src=\"data:video/mp4;base64,{0}\" type=\"video/mp4\" />\n",
    "             </video>'''.format(encoded.decode('ascii'))))\n",
    "    else:\n",
    "        print(\"Could not find video\")\n",
    "\n",
    "show_video()"
   ]
  }
 ],
 "metadata": {
  "colab": {
   "provenance": []
  },
  "kernelspec": {
   "display_name": "Python 3 (ipykernel)",
   "language": "python",
   "name": "python3"
  },
  "language_info": {
   "codemirror_mode": {
    "name": "ipython",
    "version": 3
   },
   "file_extension": ".py",
   "mimetype": "text/x-python",
   "name": "python",
   "nbconvert_exporter": "python",
   "pygments_lexer": "ipython3",
   "version": "3.11.8"
  }
 },
 "nbformat": 4,
 "nbformat_minor": 1
}
